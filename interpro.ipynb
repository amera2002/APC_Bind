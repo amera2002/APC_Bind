{
 "cells": [
  {
   "cell_type": "code",
   "execution_count": 3,
   "id": "b2627d72-2c92-45ac-87b4-ccde89f2ca6f",
   "metadata": {},
   "outputs": [],
   "source": [
    "import collections\n",
    "import requests\n",
    "import json\n",
    "import sys\n",
    "import xml.etree.cElementTree as ET\n",
    "from argparse import ArgumentParser\n",
    "from requests.adapters import HTTPAdapter, Retry"
   ]
  },
  {
   "cell_type": "code",
   "execution_count": 4,
   "id": "29b384c7-33e0-4bbb-b59b-367200a915ad",
   "metadata": {},
   "outputs": [],
   "source": [
    "ipr_ws='https://www.ebi.ac.uk/interpro/api/entry/all/protein/Uniprot/'\n",
    "up_ws='https://rest.uniprot.org/uniprotkb/'\n"
   ]
  },
  {
   "cell_type": "code",
   "execution_count": 5,
   "id": "e1800081-2207-4169-aa01-540476560e90",
   "metadata": {},
   "outputs": [],
   "source": [
    "palette=[ \"4E7705\", \"9D654C\", \"098BD9\", \"148F77\", \"7D3560\", \"6D9F06\", \n",
    " \"C17754\", \"F09163\", \"56B4E9\", \"009E73\", \"A1527F\", \"97CE2F\", \n",
    "  \"FCB076\", \"7DCCFF\", \"43BA8F\", \"CC79A7\", \"BDEC6F\", \"FFD5AF\", \n",
    " \"BCE1FF\", \"48C9B0\", \"EFB6D6\" ]\n"
   ]
  },
  {
   "cell_type": "code",
   "execution_count": 7,
   "id": "8c0853d7-423b-4a44-be17-6a2bb8a7b17e",
   "metadata": {},
   "outputs": [],
   "source": [
    "def get_ipr(P46940):\n",
    "    s=requests.Session()\n",
    "    retries=Retry(total=5, backoff_factor=1,status_forcelist=[500,502,503])\n",
    "    s.mount('https://',HTTPAdapter(max_retries=retries))\n",
    "\n",
    "    url=\"{}/{}\".format(ipr_ws,P46940)\n",
    "    r=requests.get(url)\n",
    "    if r.status_code==204:\n",
    "        print('Accession {} not found in InterPro'.format(P46940))\n",
    "        sys.exit(1)\n",
    "\n",
    "    ipr_json=json.loads(r.text)\n",
    "\n",
    "    return(ipr_json)"
   ]
  },
  {
   "cell_type": "code",
   "execution_count": 8,
   "id": "793172b2-0ce5-4a3b-83da-0e713e49737b",
   "metadata": {},
   "outputs": [],
   "source": [
    "def get_uniprot_id(P46940):\n",
    "    s=requests.Session()\n",
    "    retries=Retry(total=5, backoff_factor=1,status_forcelist=[500,502,503])\n",
    "    s.mount('https://',HTTPAdapter(max_retries=retries))\n",
    "\n",
    "    url=\"{}/{}.xml\".format(up_ws, P46940)\n",
    "    r=requests.get(url)\n",
    "    if r.status_code==204:\n",
    "        print('Accession {} not found in UniProt'.format(P46940))\n",
    "        sys.exit(1)\n",
    "\n",
    "    tree=ET.ElementTree(ET.fromstring(r.text))\n",
    "    root=tree.getroot()\n",
    "    name=root.find('./{http://uniprot.org/uniprot}entry/{http://uniprot.org/uniprot}name').text\n",
    "\n",
    "    return(name)\n"
   ]
  },
  {
   "cell_type": "code",
   "execution_count": 9,
   "id": "ec0e17d2-d8e2-4568-8c81-3d18e722b95e",
   "metadata": {},
   "outputs": [],
   "source": [
    "def format_features(ipr,include_list,unip_id):\n",
    "    ipr_acc=ipr['metadata']['accession']\n",
    "    ipr_name=ipr['metadata']['name']\n",
    "    ipr_type=ipr['metadata']['type']\n",
    "\n",
    "    ipr_features=list()\n",
    "\n",
    "    if (include_list and ipr_acc in include_list) or include_list==None:\n",
    "        for protein in ipr['proteins']:\n",
    "        \n",
    "            if unip_id:\n",
    "                prot_acc=unip_id\n",
    "            else:\n",
    "                prot_acc=protein['accession'].upper()\n",
    "\n",
    "            for loc in protein['entry_protein_locations']:\n",
    "                for fragment in loc['fragments']:\n",
    "                    start=fragment['start']\n",
    "                    end=fragment['end']\n",
    "                    ipr_features.append(\"{}\\t{}\\t-1\\t{}\\t{}\\t{}\".format( ipr_name, prot_acc, start, end, ipr_type))\n",
    "\n",
    "    return(ipr_features, ipr_type)"
   ]
  },
  {
   "cell_type": "code",
   "execution_count": 15,
   "id": "eefc59bc-31fb-4d71-8365-ee72f8ac59fd",
   "metadata": {},
   "outputs": [],
   "source": [
    "def generate_output(formatted, outfile):\n",
    "    feat_colours=dict()\n",
    "    outlines=list()\n",
    "    \n",
    "    for ipr_type in formatted.keys():\n",
    "        feat_col=palette.pop(0)\n",
    "        feat_colours[ipr_type]=feat_col\n",
    "\n",
    "        outlines.append(\"{}\\t{}\\n\".format(ipr_type,feat_col))\n",
    "\n",
    "    outlines.append('startgroup   interpro\\n')\n",
    "    \n",
    "    for ipr_type in formatted.keys():\n",
    "        features=formatted[ipr_type]\n",
    "        for group in features:\n",
    "            for feature in group:\n",
    "                feat_type=feature.split(\"\\t\")[-1]\n",
    "                line=\"{}\\t{}\\n\".format(feature,feat_colours[feat_type])\n",
    "                outlines.append(line)\n",
    "    outlines.append('endgroup   interpro\\n')\n",
    "\n",
    "    with open(outfile,'w') as out_handle:\n",
    "        out_handle.writelines(outlines)\n"
   ]
  },
  {
   "cell_type": "code",
   "execution_count": 16,
   "id": "378f46a7-2adf-433f-9786-c4894a5a2456",
   "metadata": {},
   "outputs": [
    {
     "name": "stderr",
     "output_type": "stream",
     "text": [
      "usage: ipykernel_launcher.py [-h] -a ACCESSION [-i IPRS [IPRS ...]] -o OUTPUT\n",
      "                             [-u]\n",
      "ipykernel_launcher.py: error: the following arguments are required: -a/--accession, -o/--output\n"
     ]
    },
    {
     "ename": "SystemExit",
     "evalue": "2",
     "output_type": "error",
     "traceback": [
      "An exception has occurred, use %tb to see the full traceback.\n",
      "\u001b[0;31mSystemExit\u001b[0m\u001b[0;31m:\u001b[0m 2\n"
     ]
    }
   ],
   "source": [
    "if __name__=='__main__':\n",
    "\n",
    "    parser=ArgumentParser(description='Obtains InterPro annotations for defined accession and formats as Jalview features')\n",
    "    parser.add_argument('-a', '--accession', dest='accession', help=\"Uniprot accession to request\", type=str, required=True)\n",
    "    parser.add_argument('-i', '--interpro',  dest='iprs', action=\"extend\",nargs=\"+\", type=str, help='InterPro annotation to include i.e. IPR00001. May be specified multiple times')\n",
    "    parser.add_argument('-o', '--output', dest='output', type=str, help='Output file to create', required=True)\n",
    "    parser.add_argument('-u', '--uniprot_id', dest='unip_id', default=False, action=\"store_true\", help='Label features with uniprot name rather than accession')\n",
    "    args=parser.parse_args()\n",
    "\n",
    "    unip_id=None\n",
    "\n",
    "    ipr=get_ipr(args.accession)\n",
    "    \n",
    "    if args.unip_id:\n",
    "        unip_id=get_uniprot_id(args.accession)\n",
    "\n",
    "    formatted=collections.defaultdict(list)\n",
    "\n",
    "    for i in ipr['results']:\n",
    "        f, ipr_type=format_features(i, args.iprs,unip_id)\n",
    "        formatted[ipr_type].append(f)\n",
    "\n",
    "    if len(formatted) > len(palette):\n",
    "        print('Your going to need a bigger colour palette...')\n",
    "        sys.exit(1)\n",
    "\n",
    "    generate_output(formatted, args.output)"
   ]
  },
  {
   "cell_type": "code",
   "execution_count": null,
   "id": "da7425c3-a101-4b2e-a5af-e2287e244575",
   "metadata": {},
   "outputs": [],
   "source": []
  }
 ],
 "metadata": {
  "kernelspec": {
   "display_name": "Python [conda env:miniconda3-python]",
   "language": "python",
   "name": "conda-env-miniconda3-python-py"
  },
  "language_info": {
   "codemirror_mode": {
    "name": "ipython",
    "version": 3
   },
   "file_extension": ".py",
   "mimetype": "text/x-python",
   "name": "python",
   "nbconvert_exporter": "python",
   "pygments_lexer": "ipython3",
   "version": "3.10.6"
  }
 },
 "nbformat": 4,
 "nbformat_minor": 5
}
